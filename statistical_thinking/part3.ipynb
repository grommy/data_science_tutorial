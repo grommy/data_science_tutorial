{
 "cells": [
  {
   "cell_type": "code",
   "execution_count": 2,
   "metadata": {},
   "outputs": [],
   "source": [
    "# coding=utf-8\n",
    "\n",
    "import pandas as pd\n",
    "import numpy as np\n",
    "import matplotlib.pyplot as plt\n",
    "import os"
   ]
  },
  {
   "cell_type": "markdown",
   "metadata": {},
   "source": [
    "## Openning problem\n",
    "### some bom problem may appear, see: \n",
    "- http://oradir.blogspot.com/2010/07/ufeff.html\n",
    "- https://stackoverflow.com/questions/17912307/u-ufeff-in-python-string\n",
    "- s = s.replace(u'\\ufeff', '')"
   ]
  },
  {
   "cell_type": "code",
   "execution_count": 3,
   "metadata": {
    "collapsed": true
   },
   "outputs": [
    {
     "data": {
      "text/plain": [
       "True"
      ]
     },
     "execution_count": 3,
     "metadata": {},
     "output_type": "execute_result"
    }
   ],
   "source": [
    "path_to_file = \"C:\\projects\\data_science_tutorial\\statistical_thinking\\DataSets\"\n",
    "data_file = \"../DataSets/belmont.csv\"\n",
    "vodafone_data_file = os.path.join(path_to_file, \"DataSets/vodefone_utf_8.csv\")\n",
    "vodafone_raw = os.path.join(path_to_file, \"vodafone.csv\")\n",
    "vodafone_raw_fixed = os.path.join(path_to_file, \"vodafone_fixed_chunk.csv\")\n",
    "os.path.isfile(vodafone_raw)"
   ]
  },
  {
   "cell_type": "code",
   "execution_count": 45,
   "metadata": {},
   "outputs": [],
   "source": [
    "# def read_in_chunks(file_object, chunk_size=1024):\n",
    "#     \"\"\"Lazy function (generator) to read a file piece by piece.\n",
    "#     Default chunk size: 1k.\"\"\"\n",
    "#     while True:\n",
    "#         data = file_object.read(chunk_size)\n",
    "#         if not data:\n",
    "#             break\n",
    "#         yield data"
   ]
  },
  {
   "cell_type": "code",
   "execution_count": 46,
   "metadata": {},
   "outputs": [],
   "source": [
    "# fixed_file = open(vodafone_raw_fixed, mode='w', encoding='utf-8').close()"
   ]
  },
  {
   "cell_type": "code",
   "execution_count": 1,
   "metadata": {},
   "outputs": [],
   "source": [
    "# raw_file = open(vodafone_raw, mode='r', encoding='cp1251')\n",
    "# fixed_file = open(vodafone_raw_fixed, mode='a', encoding='utf-8')\n",
    "# \n",
    "# CHUNK_SIZE = 64 * 2 ** 20  # 64 MB\n",
    "# for piece in read_in_chunks(raw_file, chunk_size=CHUNK_SIZE):\n",
    "#     fixed_file.write(piece)\n",
    "#     \n",
    "# raw_file.close()\n",
    "# fixed_file.close()"
   ]
  },
  {
   "cell_type": "code",
   "execution_count": 29,
   "metadata": {},
   "outputs": [],
   "source": [
    "# def decode(s):\n",
    "#     for encoding in \"utf-8-sig\", \"utf-16\":\n",
    "#         try:\n",
    "#             return s.decode(encoding)\n",
    "#         except UnicodeDecodeError:\n",
    "#             continue\n",
    "#     return s.decode(\"latin-1\")  # will always work"
   ]
  },
  {
   "cell_type": "code",
   "execution_count": 30,
   "metadata": {},
   "outputs": [
    {
     "data": {
      "text/plain": [
       "258606708"
      ]
     },
     "execution_count": 30,
     "metadata": {},
     "output_type": "execute_result"
    }
   ],
   "source": [
    "# s = open(vodafone_raw, mode='r', encoding='cp1251').read()\n",
    "# open(vodafone_raw_fixed, mode='w', encoding='utf-8').write(s)"
   ]
  },
  {
   "cell_type": "code",
   "execution_count": 4,
   "metadata": {
    "collapsed": false
   },
   "outputs": [
    {
     "name": "stdout",
     "output_type": "stream",
     "text": [
      "                           interest_5\nevent_start_date                     \n08AUG17:02:45:27                  NaN\n27JUL17:05:40:04                  NaN\n10AUG17:11:12:33   Бизнес и экономика\n04JUL17:15:36:42                  NaN\n19JUN17:16:03:20  Наука и образование\n"
     ]
    }
   ],
   "source": [
    "r_types = {'hash_number_A': np.int64, 'hash_tariff': np.int64, 'event': np.str, \n",
    "           'network_service_direction': np.str, 'event_start_date': np.str, 'LAT': np.str, 'LON': np.str,\n",
    "           'cost': np.float, 'hash_number_B': np.int64, 'number_B_category': np.str, \n",
    "           'call_duration_minutes': np.float}\n",
    "data = pd.read_csv(vodafone_raw, na_values=['.', ''], encoding=\"cp1251\", \n",
    "                   dtype=r_types, index_col='event_start_date')\n",
    "print(data[[\"interest_5\"]].head())"
   ]
  },
  {
   "cell_type": "code",
   "execution_count": 5,
   "metadata": {},
   "outputs": [
    {
     "name": "stdout",
     "output_type": "stream",
     "text": [
      "                 number_B_category\nevent_start_date                  \n08AUG17:02:45:27               NaN\n27JUL17:05:40:04               NaN\n10AUG17:11:12:33               NaN\n04JUL17:15:36:42               NaN\n19JUN17:16:03:20               NaN\n         number_B_category\ncount                23520\nunique                  81\ntop     Бизнес и экономика\nfreq                 13089"
     ]
    },
    {
     "name": "stdout",
     "output_type": "stream",
     "text": [
      "\n<class 'float'>\n"
     ]
    }
   ],
   "source": [
    "print(data[['number_B_category']].head())\n",
    "print(data[['number_B_category']].describe())\n",
    "print(type(data['number_B_category'][0]))"
   ]
  },
  {
   "cell_type": "code",
   "execution_count": 33,
   "metadata": {
    "collapsed": false
   },
   "outputs": [
    {
     "name": "stdout",
     "output_type": "stream",
     "text": [
      "Index(['hash_number_A', 'hash_tariff', 'event', 'event_sub',\n       'network_service_direction', 'LAT', 'LON', 'cost', 'hash_number_B',\n       'number_B_category', 'call_duration_minutes', 'data_volume_mb',\n       'hash_accum_code', 'device_type', 'phone_price_category', 'interest_1',\n       'interest_2', 'interest_3', 'interest_4', 'interest_5'],\n      dtype='object')\n                  hash_tariff\nevent_start_date             \n08AUG17:02:45:27       232217\n27JUL17:05:40:04        35230\n10AUG17:11:12:33       232217\n04JUL17:15:36:42       237875\n19JUN17:16:03:20       232217\n"
     ]
    }
   ],
   "source": [
    "print(data.columns)\n",
    "print(data[['hash_tariff']].head())"
   ]
  },
  {
   "cell_type": "markdown",
   "metadata": {},
   "source": [
    "### filtration by category"
   ]
  },
  {
   "cell_type": "code",
   "execution_count": 34,
   "metadata": {
    "collapsed": true
   },
   "outputs": [
    {
     "name": "stdout",
     "output_type": "stream",
     "text": [
      "                  hash_number_A  hash_tariff        event event_sub  \\\nevent_start_date                                                      \n15JUL17:18:35:31         500707       232217  network_ser   content   \n22JUN17:07:42:31         500707       232217  network_ser   content   \n27JUN17:14:18:44         500707       232217  network_ser   content   \n09AUG17:09:12:26        1789914       232217  network_ser   content   \n30JUL17:23:42:25        1878972       232510  network_ser   content   \n\n                 network_service_direction           LAT           LON  cost  \\\nevent_start_date                                                               \n15JUL17:18:35:31                  Outgoing  50.280555301  24.635277651   1.0   \n22JUN17:07:42:31                  Outgoing  50.749250254  25.309221459   1.0   \n27JUN17:14:18:44                  Outgoing  50.755333333  25.356917048   1.0   \n09AUG17:09:12:26                  Incoming  48.627220442  22.291666158   0.0   \n30JUL17:23:42:25                  Incoming   49.58360984  27.103611493   0.0   \n\n                  hash_number_B   number_B_category  call_duration_minutes  \\\nevent_start_date                                                             \n15JUL17:18:35:31        2891045  Бизнес и экономика                    0.0   \n22JUN17:07:42:31        2891045  Бизнес и экономика                    0.0   \n27JUN17:14:18:44        2891045  Бизнес и экономика                    0.0   \n09AUG17:09:12:26        2891469  Бизнес и экономика                    0.0   \n30JUL17:23:42:25        2891469  Бизнес и экономика                    0.0   \n\n                  data_volume_mb  hash_accum_code device_type  \\\nevent_start_date                                                \n15JUL17:18:35:31             0.0                0  smartphone   \n22JUN17:07:42:31             0.0                0  smartphone   \n27JUN17:14:18:44             0.0                0  smartphone   \n09AUG17:09:12:26             0.0                0  smartphone   \n30JUL17:23:42:25             0.0                0       phone   \n\n                  phone_price_category          interest_1     interest_2  \\\nevent_start_date                                                            \n15JUL17:18:35:31                   2.0  Бизнес и экономика  Новости и СМИ   \n22JUN17:07:42:31                   2.0  Бизнес и экономика  Новости и СМИ   \n27JUN17:14:18:44                   2.0  Бизнес и экономика  Новости и СМИ   \n09AUG17:09:12:26                   2.0  Бизнес и экономика        Справка   \n30JUL17:23:42:25                   1.0                 NaN            NaN   \n\n                 interest_3     interest_4   interest_5  \nevent_start_date                                         \n15JUL17:18:35:31    Hi-Tech    Дом и семья      Справка  \n22JUN17:07:42:31    Hi-Tech    Дом и семья      Справка  \n27JUN17:14:18:44    Hi-Tech    Дом и семья      Справка  \n09AUG17:09:12:26    Hi-Tech  Новости и СМИ  Дом и семья  \n30JUL17:23:42:25        NaN            NaN          NaN  \n"
     ]
    }
   ],
   "source": [
    "filter_by_cat = data['number_B_category'] == 'Бизнес и экономика'\n",
    "bussiness_sms = data[filter_by_cat]\n",
    "print(bussiness_sms.head())"
   ]
  },
  {
   "cell_type": "markdown",
   "metadata": {},
   "source": [
    "### filtration by number #some bom problem may appear"
   ]
  },
  {
   "cell_type": "code",
   "execution_count": 52,
   "metadata": {
    "collapsed": true
   },
   "outputs": [
    {
     "name": "stdout",
     "output_type": "stream",
     "text": [
      "                  hash_number_A  hash_tariff        event        event_sub  \\\nevent_start_date                                                             \n08AUG17:02:45:27        1994159       232217  service_fee  service_fee_430   \n08JUN17:16:17:11        1994159       232217  account_ref         refill_1   \n07AUG17:18:32:40        1994159       232217  account_ref         refill_1   \n05JUL17:03:28:26        1994159       232217  service_fee  service_fee_430   \n04JUL17:15:21:33        1994159       232217  account_ref         refill_1   \n\n                 network_service_direction  LAT  LON     cost  hash_number_B  \\\nevent_start_date                                                               \n08AUG17:02:45:27                       NaN  NaN  NaN  39.9989              0   \n08JUN17:16:17:11                       NaN  NaN  NaN  40.0000              0   \n07AUG17:18:32:40                       NaN  NaN  NaN  45.0000              0   \n05JUL17:03:28:26                       NaN  NaN  NaN  39.9989              0   \n04JUL17:15:21:33                       NaN  NaN  NaN  45.0000              0   \n\n                 number_B_category  call_duration_minutes  data_volume_mb  \\\nevent_start_date                                                            \n08AUG17:02:45:27               NaN                    NaN             NaN   \n08JUN17:16:17:11               NaN                    NaN             NaN   \n07AUG17:18:32:40               NaN                    NaN             NaN   \n05JUL17:03:28:26               NaN                    NaN             NaN   \n04JUL17:15:21:33               NaN                    NaN             NaN   \n\n                  hash_accum_code device_type  phone_price_category  \\\nevent_start_date                                                      \n08AUG17:02:45:27                0       phone                   1.0   \n08JUN17:16:17:11                0       phone                   1.0   \n07AUG17:18:32:40                0       phone                   1.0   \n05JUL17:03:28:26                0       phone                   1.0   \n04JUL17:15:21:33                0       phone                   1.0   \n\n                 interest_1 interest_2 interest_3 interest_4 interest_5  \nevent_start_date                                                         \n08AUG17:02:45:27        NaN        NaN        NaN        NaN        NaN  \n08JUN17:16:17:11        NaN        NaN        NaN        NaN        NaN  \n07AUG17:18:32:40        NaN        NaN        NaN        NaN        NaN  \n05JUL17:03:28:26        NaN        NaN        NaN        NaN        NaN  \n04JUL17:15:21:33        NaN        NaN        NaN        NaN        NaN  \n"
     ]
    }
   ],
   "source": [
    "filter_by_num = data['hash_number_A'] == 1994159\n",
    "num_1994159 = data[filter_by_num]\n",
    "print(num_1994159.head())"
   ]
  },
  {
   "cell_type": "code",
   "execution_count": null,
   "metadata": {},
   "outputs": [],
   "source": [
    ""
   ]
  }
 ],
 "metadata": {
  "kernelspec": {
   "display_name": "Python 3",
   "language": "python",
   "name": "python3"
  },
  "language_info": {
   "codemirror_mode": {
    "name": "ipython",
    "version": 3.0
   },
   "file_extension": ".py",
   "mimetype": "text/x-python",
   "name": "python",
   "nbconvert_exporter": "python",
   "pygments_lexer": "ipython3",
   "version": "3.5.4"
  }
 },
 "nbformat": 4,
 "nbformat_minor": 0
}